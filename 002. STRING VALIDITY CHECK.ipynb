{
 "cells": [
  {
   "cell_type": "code",
   "execution_count": 18,
   "id": "a8c61bfd-d6f1-4302-95bc-7d1ff5a97084",
   "metadata": {},
   "outputs": [
    {
     "name": "stdout",
     "output_type": "stream",
     "text": [
      "string : aabbccc\n",
      "list of all charecters of string :  ['a', 'a', 'b', 'b', 'c', 'c', 'c']\n",
      "list of unique charecters :  ['a', 'b', 'c']\n",
      "charecters frequency :  {'a': 2, 'b': 2, 'c': 3}\n",
      "is occurence of the charecter in the string same or not :  false\n",
      "all the frequencies are not equal , now we will check either it becomes valid after followinf condition 2 or not\n",
      "unique frequencies :  [2, 3]\n",
      "unique frequencies are 2 so we can check either the difference of unique frequency is 1 or not\n",
      "difference of unique frequencies is 1 so we will check for\n",
      "[2, 2, 3]\n",
      "there is only one charecter which has larger frequency by 1 , so we wil remove that extra charecter to make the string valid\n",
      "c\n",
      "extra charecter is c\n",
      "aabbcc\n",
      "now we will verify either the string become valid or not after following condition 2\n",
      "string after change : aabbcc\n",
      "list of all charecters of string :  ['a', 'a', 'b', 'b', 'c', 'c']\n",
      "list of unique charecters :  ['a', 'b', 'c']\n",
      "charecters frequencies :  {'a': 2, 'b': 2, 'c': 2}\n",
      "********true********\n"
     ]
    },
    {
     "name": "stdin",
     "output_type": "stream",
     "text": [
      "enter \"yes\" to check for another string yes\n"
     ]
    },
    {
     "name": "stdout",
     "output_type": "stream",
     "text": [
      "string : yes\n",
      "list of all charecters of string :  ['y', 'e', 's']\n",
      "list of unique charecters :  ['y', 'e', 's']\n",
      "charecters frequency :  {'y': 1, 'e': 1, 's': 1}\n",
      "is occurence of the charecter in the string same or not :  true\n",
      "*********None********\n"
     ]
    }
   ],
   "source": [
    "\n"
   ]
  },
  {
   "cell_type": "code",
   "execution_count": null,
   "id": "0c02b204-148f-4732-bfbe-bb4bdd3d21a1",
   "metadata": {},
   "outputs": [],
   "source": []
  }
 ],
 "metadata": {
  "kernelspec": {
   "display_name": "Python 3 (ipykernel)",
   "language": "python",
   "name": "python3"
  },
  "language_info": {
   "codemirror_mode": {
    "name": "ipython",
    "version": 3
   },
   "file_extension": ".py",
   "mimetype": "text/x-python",
   "name": "python",
   "nbconvert_exporter": "python",
   "pygments_lexer": "ipython3",
   "version": "3.10.6"
  }
 },
 "nbformat": 4,
 "nbformat_minor": 5
}
